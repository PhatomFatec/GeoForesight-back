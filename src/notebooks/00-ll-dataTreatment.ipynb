{
 "cells": [
  {
   "cell_type": "code",
   "execution_count": null,
   "metadata": {},
   "outputs": [],
   "source": [
    "import pandas as pd"
   ]
  },
  {
   "cell_type": "code",
   "execution_count": null,
   "metadata": {},
   "outputs": [],
   "source": [
    "cooperados = pd.read_csv(\"C:/Users/leall/Downloads/ListaCooperados.csv\", sep=';' , encoding='utf-8')\n",
    "cooperados"
   ]
  },
  {
   "cell_type": "code",
   "execution_count": null,
   "metadata": {},
   "outputs": [],
   "source": [
    "cooperados['CpfCnpj'] = cooperados['CpfCnpj'].astype(str)\n",
    "\n",
    "cooperados.info()"
   ]
  },
  {
   "cell_type": "code",
   "execution_count": null,
   "metadata": {},
   "outputs": [],
   "source": [
    "cooperados['digitos'] = cooperados['CpfCnpj'].apply(len)\n",
    "\n",
    "cooperados"
   ]
  },
  {
   "cell_type": "code",
   "execution_count": null,
   "metadata": {},
   "outputs": [],
   "source": [
    "errados = cooperados[cooperados['CpfCnpj'].str.len() <= 10]\n",
    "\n",
    "quantidade_registros = len(errados)\n",
    "\n",
    "\n",
    "print(\"Linhas filtradas:\")\n",
    "print(errados)"
   ]
  },
  {
   "cell_type": "code",
   "execution_count": null,
   "metadata": {},
   "outputs": [],
   "source": [
    "contagem_tipo_pessoa = errados['TipoPessoa'].value_counts()\n",
    "\n",
    "contagem_tipo_pessoa"
   ]
  },
  {
   "cell_type": "code",
   "execution_count": null,
   "metadata": {},
   "outputs": [],
   "source": [
    "cpf = cooperados[cooperados['CpfCnpj'].str.len() == 11]\n",
    "\n",
    "quantidade_cpf = len(cpf)\n",
    "\n",
    "print(quantidade_cpf)\n",
    "\n",
    "x = cpf['TipoPessoa'].value_counts()\n",
    "\n",
    "cpf.to_csv(\"cooperados_corrigido.csv\")"
   ]
  },
  {
   "cell_type": "code",
   "execution_count": null,
   "metadata": {},
   "outputs": [],
   "source": [
    "cnpj = cooperados[cooperados['CpfCnpj'].str.len() == 14]\n",
    "\n",
    "quantidade_cnpj = len(cnpj)\n",
    "\n",
    "print(quantidade_cnpj)\n",
    "\n",
    "y = cnpj['TipoPessoa'].value_counts()\n",
    "\n",
    "y"
   ]
  }
 ],
 "metadata": {
  "language_info": {
   "name": "python"
  },
  "orig_nbformat": 4
 },
 "nbformat": 4,
 "nbformat_minor": 2
}
