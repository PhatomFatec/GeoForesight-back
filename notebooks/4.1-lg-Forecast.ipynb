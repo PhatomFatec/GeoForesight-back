{
 "cells": [
  {
   "cell_type": "code",
   "execution_count": 22,
   "metadata": {},
   "outputs": [
    {
     "data": {
      "text/plain": [
       "True"
      ]
     },
     "execution_count": 22,
     "metadata": {},
     "output_type": "execute_result"
    }
   ],
   "source": [
    "from sqlalchemy import create_engine, text\n",
    "from flask import Flask, jsonify, request\n",
    "from dotenv import load_dotenv\n",
    "import pandas as pd\n",
    "import os\n",
    "\n",
    "load_dotenv()"
   ]
  },
  {
   "cell_type": "markdown",
   "metadata": {},
   "source": [
    "criar consulta dos dados na view 'public.vw_query_glebas_resultado'"
   ]
  },
  {
   "cell_type": "code",
   "execution_count": 21,
   "metadata": {},
   "outputs": [],
   "source": [
    "query = ''' SELECT * from \n",
    "        vw_query_glebas_resultado\n",
    "            WHERE 1=1'''\n",
    "\n",
    "engine = create_engine(os.getenv('url_heroku'))\n",
    "\n",
    "conn = engine.connect()\n",
    "\n",
    "# Executar a query\n",
    "resultados = conn.execute(text(query)).fetchall()\n",
    "\n",
    "# Montar a lista de resultados\n",
    "lista_resultados = []\n",
    "for resultado in resultados:\n",
    "    resultado_dict = {\n",
    "        \"ref_bacen\": resultado.ref_bacen,\n",
    "        \"nu_identificador\": resultado.nu_identificador,\n",
    "        \"coordenadas\": resultado.coordenadas,\n",
    "        \"inicio_plantio\": resultado.inicio_plantio,\n",
    "        \"final_plantio\": resultado.final_plantio,\n",
    "        \"inicio_colheita\": resultado.inicio_colheita,\n",
    "        \"final_colheita\": resultado.final_colheita,\n",
    "        \"descricao_grao\": resultado.descricao_grao,\n",
    "        \"descricao_irrigacao\": resultado.descricao_irrigacao,\n",
    "        \"descricao_producao\": resultado.descricao_producao,\n",
    "        \"descricao_solo\": resultado.descricao_solo, \n",
    "        \"descricao_evento\": resultado.descricao_evento, \n",
    "        \"descricao_cultiva\": resultado.descricao_cultiva,\n",
    "        \"estado\": resultado.estado,\n",
    "        \"municipio\": resultado.municipio,\n",
    "        \"produto\": resultado.produto\n",
    "    }\n",
    "    lista_resultados.append(resultado_dict)\n",
    "\n",
    "#  Fechar a conexão\n",
    "conn.close()"
   ]
  },
  {
   "cell_type": "code",
   "execution_count": 24,
   "metadata": {},
   "outputs": [],
   "source": [
    "df = pd.DataFrame(lista_resultados)"
   ]
  },
  {
   "cell_type": "code",
   "execution_count": null,
   "metadata": {},
   "outputs": [],
   "source": []
  },
  {
   "cell_type": "code",
   "execution_count": 41,
   "metadata": {},
   "outputs": [],
   "source": [
    "ref_bacen_list = [506273616, 505954021, 505993977, 505993977, 505967820, 505993977, 505954021, 505971238, 505954021, 505971238, 505967820]"
   ]
  },
  {
   "cell_type": "code",
   "execution_count": 44,
   "metadata": {},
   "outputs": [],
   "source": [
    "focus = df[df['ref_bacen'].isin(ref_bacen_list)]"
   ]
  },
  {
   "cell_type": "code",
   "execution_count": 45,
   "metadata": {},
   "outputs": [
    {
     "data": {
      "text/plain": [
       "(14, 16)"
      ]
     },
     "execution_count": 45,
     "metadata": {},
     "output_type": "execute_result"
    }
   ],
   "source": [
    "focus.shape"
   ]
  },
  {
   "cell_type": "markdown",
   "metadata": {},
   "source": [
    "aplicar modelo de previsão de indices"
   ]
  },
  {
   "cell_type": "code",
   "execution_count": null,
   "metadata": {},
   "outputs": [],
   "source": []
  },
  {
   "cell_type": "markdown",
   "metadata": {},
   "source": [
    "salvar a nova coluna de previsões na views"
   ]
  }
 ],
 "metadata": {
  "kernelspec": {
   "display_name": "api",
   "language": "python",
   "name": "python3"
  },
  "language_info": {
   "codemirror_mode": {
    "name": "ipython",
    "version": 3
   },
   "file_extension": ".py",
   "mimetype": "text/x-python",
   "name": "python",
   "nbconvert_exporter": "python",
   "pygments_lexer": "ipython3",
   "version": "3.10.13"
  }
 },
 "nbformat": 4,
 "nbformat_minor": 2
}
