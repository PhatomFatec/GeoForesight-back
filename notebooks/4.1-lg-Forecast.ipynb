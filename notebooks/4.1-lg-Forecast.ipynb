{
 "cells": [
  {
   "cell_type": "code",
   "execution_count": null,
   "metadata": {},
   "outputs": [],
   "source": [
    "from dotenv import load_dotenv\n",
    "\n",
    "app.config['SQLALCHEMY_DATABASE_URI'] = os.getenv('url_heroku')"
   ]
  },
  {
   "cell_type": "markdown",
   "metadata": {},
   "source": [
    "criar consulta dos dados na view 'public.vw_query_glebas_resultado'"
   ]
  },
  {
   "cell_type": "code",
   "execution_count": null,
   "metadata": {},
   "outputs": [],
   "source": [
    "try:\n",
    "\n",
    "        query = ''' SELECT * from \n",
    "                vw_query_glebas_resultado\n",
    "                    WHERE 1=1'''\n",
    "\n",
    "        if data['ref_bacen'] is not None:\n",
    "            query += f\" AND ref_bacen = {data['ref_bacen']}\"\n",
    "        if data['nu_identificador'] is not None:\n",
    "            query += f\" AND nu_identificador = {data['nu_identificador']}\"\n",
    "        if data['inicio_plantio'] is not None:\n",
    "            query += f\" AND inicio_plantio >= '{data['inicio_plantio']}'\"\n",
    "        if data['descricao_solo'] is not None:\n",
    "            query += f\" AND descricao_solo = '{data['descricao_solo']}'\"\n",
    "        if data['descricao_evento'] is not None:\n",
    "            query += f\" AND descricao_evento = '{data['descricao_evento']}'\"\n",
    "        if data['descricao_cultiva'] is not None:\n",
    "            query += f\" AND descricao_cultiva = '{data['descricao_cultiva']}'\"\n",
    "        if data['final_plantio'] is not None:\n",
    "            query += f\" AND final_plantio <= '{data['final_plantio']}'\"\n",
    "        if data['inicio_colheita'] is not None:\n",
    "            query += f\" AND inicio_colheita >= '{data['inicio_colheita']}'\"\n",
    "        if data['final_colheita'] is not None:\n",
    "            query += f\" AND final_colheita <= '{data['final_colheita']}'\"\n",
    "        if data['descricao_grao'] is not None:\n",
    "            query += f\" AND descricao_grao = '{data['descricao_grao']}'\"\n",
    "        if data['descricao_producao'] is not None:\n",
    "            query += f\" AND descricao_producao = '{data['descricao_producao']}'\"\n",
    "        if data['municipio'] is not None:\n",
    "            query += f\" AND municipio = '{data['municipio']}'\"\n",
    "        if data['estado'] is not None:\n",
    "            query += f\" AND estado = '{data['estado']}'\"\n",
    "        if data['produto'] is not None:\n",
    "            query += f\" AND produto = '{data['produto']}'\"\n",
    "        if data['descricao_irrigacao'] is not None:\n",
    "            query += f\" AND descricao_irrigacao = '{data['descricao_irrigacao']}'\"\n",
    "        \n",
    "        engine = create_engine(os.getenv('url_heroku'))\n",
    "\n",
    "        conn = engine.connect()\n",
    "\n",
    "        # Executar a query\n",
    "        resultados = conn.execute(text(query)).fetchall()\n",
    "\n",
    "        # Montar a lista de resultados\n",
    "        lista_resultados = []\n",
    "        for resultado in resultados:\n",
    "            resultado_dict = {\n",
    "            \"ref_bacen\": resultado.ref_bacen,\n",
    "            \"nu_identificador\": resultado.nu_identificador,\n",
    "            \"coordenadas\": resultado.coordenadas,\n",
    "            \"inicio_plantio\": resultado.inicio_plantio,\n",
    "            \"final_plantio\": resultado.final_plantio,\n",
    "            \"inicio_colheita\": resultado.inicio_colheita,\n",
    "            \"final_colheita\": resultado.final_colheita,\n",
    "            \"descricao_grao\": resultado.descricao_grao,\n",
    "            \"descricao_irrigacao\": resultado.descricao_irrigacao,\n",
    "            \"descricao_producao\": resultado.descricao_producao,\n",
    "            \"descricao_solo\": resultado.descricao_solo, \n",
    "            \"descricao_evento\": resultado.descricao_evento, \n",
    "            \"descricao_cultiva\": resultado.descricao_cultiva,\n",
    "            \"estado\": resultado.estado,\n",
    "            \"municipio\": resultado.municipio,\n",
    "            \"produto\": resultado.produto\n",
    "        }\n",
    "        lista_resultados.append(resultado_dict)\n",
    "\n",
    "    #  Fechar a conexão\n",
    "    conn.close()\n",
    "\n",
    "    return jsonify(lista_resultados), 200"
   ]
  },
  {
   "cell_type": "markdown",
   "metadata": {},
   "source": [
    "aplicar modelo de previsão de indices"
   ]
  },
  {
   "cell_type": "code",
   "execution_count": null,
   "metadata": {},
   "outputs": [],
   "source": []
  },
  {
   "cell_type": "markdown",
   "metadata": {},
   "source": [
    "salvar a nova coluna de previsões na views"
   ]
  }
 ],
 "metadata": {
  "language_info": {
   "name": "python"
  }
 },
 "nbformat": 4,
 "nbformat_minor": 2
}
