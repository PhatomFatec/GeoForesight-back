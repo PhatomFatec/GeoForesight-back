{
 "cells": [
  {
   "cell_type": "code",
   "execution_count": 23,
   "metadata": {},
   "outputs": [],
   "source": [
    "import pandas as pd"
   ]
  },
  {
   "cell_type": "code",
   "execution_count": 5,
   "metadata": {},
   "outputs": [],
   "source": [
    "dict_teste = [\n",
    "  {\n",
    "    \"aceitacao_email\": True,\n",
    "    \"data_aceitacao\": \"Sun, 29 Oct 2023 16:25:20 GMT\",\n",
    "    \"id_user\": 2,\n",
    "    \"u.email\": \"lguirald@admin.com\"\n",
    "  },\n",
    "  {\n",
    "    \"aceitacao_email\": True,\n",
    "    \"data_aceitacao\": \"Mon, 30 Oct 2023 14:16:04 GMT\",\n",
    "    \"id_user\": 3,\n",
    "    \"u.email\": \"marcus@email.com\"\n",
    "  },\n",
    "  {\n",
    "    \"aceitacao_email\": True,\n",
    "    \"data_aceitacao\": \"Mon, 30 Oct 2023 17:38:20 GMT\",\n",
    "    \"id_user\": 4,\n",
    "    \"u.email\": \"lara.o.leal2001@gmail.com\"\n",
    "  }\n",
    "]"
   ]
  },
  {
   "cell_type": "code",
   "execution_count": 21,
   "metadata": {},
   "outputs": [],
   "source": [
    "lista_de_emails = []\n",
    "for item in dict_teste:\n",
    "    if 'u.email' in item:\n",
    "        lista_de_emails.append(item['u.email'])"
   ]
  },
  {
   "cell_type": "code",
   "execution_count": 22,
   "metadata": {},
   "outputs": [
    {
     "data": {
      "text/plain": [
       "['lguirald@admin.com', 'marcus@email.com', 'lara.o.leal2001@gmail.com']"
      ]
     },
     "execution_count": 22,
     "metadata": {},
     "output_type": "execute_result"
    }
   ],
   "source": [
    "lista_de_emails"
   ]
  }
 ],
 "metadata": {
  "kernelspec": {
   "display_name": "api",
   "language": "python",
   "name": "python3"
  },
  "language_info": {
   "codemirror_mode": {
    "name": "ipython",
    "version": 3
   },
   "file_extension": ".py",
   "mimetype": "text/x-python",
   "name": "python",
   "nbconvert_exporter": "python",
   "pygments_lexer": "ipython3",
   "version": "3.10.13"
  }
 },
 "nbformat": 4,
 "nbformat_minor": 2
}
