{
 "cells": [
  {
   "cell_type": "code",
   "execution_count": null,
   "metadata": {},
   "outputs": [],
   "source": [
    "import pandas as pd\n",
    "import json"
   ]
  },
  {
   "cell_type": "code",
   "execution_count": null,
   "metadata": {},
   "outputs": [],
   "source": [
    "data = pd.DataFrame(columns=['date', 'indice'])\n",
    "with open('../data/st_test.json', 'r') as file:\n",
    "        d = json.loads(file.read())\n",
    "\n",
    "        data['date'] = d['Indices']['NDVI']['Serie Processada']['Data']\n",
    "        data['indice'] = d['Indices']['NDVI']['Serie Processada']['Indice']"
   ]
  },
  {
   "cell_type": "code",
   "execution_count": null,
   "metadata": {},
   "outputs": [],
   "source": [
    "data"
   ]
  }
 ],
 "metadata": {
  "language_info": {
   "name": "python"
  }
 },
 "nbformat": 4,
 "nbformat_minor": 2
}
