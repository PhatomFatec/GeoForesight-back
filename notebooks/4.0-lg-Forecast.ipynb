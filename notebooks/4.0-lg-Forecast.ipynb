{
 "cells": [
  {
   "cell_type": "code",
   "execution_count": 104,
   "metadata": {},
   "outputs": [],
   "source": [
    "import matplotlib.pyplot as plt\n",
    "import pandas as pd\n",
    "import numpy as np\n",
    "import json\n",
    "import os\n",
    "\n",
    "from skforecast.model_selection import random_search_forecaster\n",
    "from skforecast.ForecasterAutoreg import ForecasterAutoreg\n",
    "from sklearn.ensemble import RandomForestRegressor"
   ]
  },
  {
   "cell_type": "code",
   "execution_count": 105,
   "metadata": {},
   "outputs": [],
   "source": [
    "data = pd.DataFrame(columns=['date', 'indice'])\n",
    "\n",
    "diretorio = '../data/rl/'\n",
    "\n",
    "arquivos_json = [arquivo for arquivo in os.listdir(diretorio) if arquivo.endswith('.json')]\n",
    "\n",
    "for arquivo_json in arquivos_json:\n",
    "    with open(os.path.join(diretorio, arquivo_json), 'r') as file:\n",
    "        d = json.loads(file.read())\n",
    "        \n",
    "        data_temp = pd.DataFrame({\n",
    "            'date': d['Indices']['NDVI']['Serie Processada']['Data'],\n",
    "            'indice': d['Indices']['NDVI']['Serie Processada']['Indice']\n",
    "        })\n",
    "\n",
    "        data = pd.concat([data, data_temp], ignore_index=True)"
   ]
  },
  {
   "cell_type": "code",
   "execution_count": 106,
   "metadata": {},
   "outputs": [
    {
     "data": {
      "text/html": [
       "<div>\n",
       "<style scoped>\n",
       "    .dataframe tbody tr th:only-of-type {\n",
       "        vertical-align: middle;\n",
       "    }\n",
       "\n",
       "    .dataframe tbody tr th {\n",
       "        vertical-align: top;\n",
       "    }\n",
       "\n",
       "    .dataframe thead th {\n",
       "        text-align: right;\n",
       "    }\n",
       "</style>\n",
       "<table border=\"1\" class=\"dataframe\">\n",
       "  <thead>\n",
       "    <tr style=\"text-align: right;\">\n",
       "      <th></th>\n",
       "      <th>date</th>\n",
       "      <th>indice</th>\n",
       "    </tr>\n",
       "  </thead>\n",
       "  <tbody>\n",
       "    <tr>\n",
       "      <th>0</th>\n",
       "      <td>2017-07-28</td>\n",
       "      <td>0.000657</td>\n",
       "    </tr>\n",
       "    <tr>\n",
       "      <th>1</th>\n",
       "      <td>2017-11-01</td>\n",
       "      <td>0.000000</td>\n",
       "    </tr>\n",
       "    <tr>\n",
       "      <th>2</th>\n",
       "      <td>2017-11-09</td>\n",
       "      <td>0.017062</td>\n",
       "    </tr>\n",
       "    <tr>\n",
       "      <th>3</th>\n",
       "      <td>2017-11-17</td>\n",
       "      <td>0.008105</td>\n",
       "    </tr>\n",
       "    <tr>\n",
       "      <th>4</th>\n",
       "      <td>2017-12-11</td>\n",
       "      <td>0.010585</td>\n",
       "    </tr>\n",
       "    <tr>\n",
       "      <th>...</th>\n",
       "      <td>...</td>\n",
       "      <td>...</td>\n",
       "    </tr>\n",
       "    <tr>\n",
       "      <th>131</th>\n",
       "      <td>2020-03-29</td>\n",
       "      <td>0.018291</td>\n",
       "    </tr>\n",
       "    <tr>\n",
       "      <th>132</th>\n",
       "      <td>2020-04-14</td>\n",
       "      <td>0.092785</td>\n",
       "    </tr>\n",
       "    <tr>\n",
       "      <th>133</th>\n",
       "      <td>2020-06-09</td>\n",
       "      <td>0.034286</td>\n",
       "    </tr>\n",
       "    <tr>\n",
       "      <th>134</th>\n",
       "      <td>2020-07-03</td>\n",
       "      <td>0.021134</td>\n",
       "    </tr>\n",
       "    <tr>\n",
       "      <th>135</th>\n",
       "      <td>2020-08-12</td>\n",
       "      <td>0.010591</td>\n",
       "    </tr>\n",
       "  </tbody>\n",
       "</table>\n",
       "<p>136 rows × 2 columns</p>\n",
       "</div>"
      ],
      "text/plain": [
       "           date    indice\n",
       "0    2017-07-28  0.000657\n",
       "1    2017-11-01  0.000000\n",
       "2    2017-11-09  0.017062\n",
       "3    2017-11-17  0.008105\n",
       "4    2017-12-11  0.010585\n",
       "..          ...       ...\n",
       "131  2020-03-29  0.018291\n",
       "132  2020-04-14  0.092785\n",
       "133  2020-06-09  0.034286\n",
       "134  2020-07-03  0.021134\n",
       "135  2020-08-12  0.010591\n",
       "\n",
       "[136 rows x 2 columns]"
      ]
     },
     "execution_count": 106,
     "metadata": {},
     "output_type": "execute_result"
    }
   ],
   "source": [
    "data"
   ]
  },
  {
   "cell_type": "code",
   "execution_count": 107,
   "metadata": {},
   "outputs": [
    {
     "data": {
      "text/plain": [
       "date       object\n",
       "indice    float64\n",
       "dtype: object"
      ]
     },
     "execution_count": 107,
     "metadata": {},
     "output_type": "execute_result"
    }
   ],
   "source": [
    "data.dtypes"
   ]
  },
  {
   "cell_type": "code",
   "execution_count": 108,
   "metadata": {},
   "outputs": [],
   "source": [
    "data['date'] = pd.to_datetime(data['date'], format='%Y-%m-%d')"
   ]
  },
  {
   "cell_type": "code",
   "execution_count": 109,
   "metadata": {},
   "outputs": [
    {
     "data": {
      "text/html": [
       "<div>\n",
       "<style scoped>\n",
       "    .dataframe tbody tr th:only-of-type {\n",
       "        vertical-align: middle;\n",
       "    }\n",
       "\n",
       "    .dataframe tbody tr th {\n",
       "        vertical-align: top;\n",
       "    }\n",
       "\n",
       "    .dataframe thead th {\n",
       "        text-align: right;\n",
       "    }\n",
       "</style>\n",
       "<table border=\"1\" class=\"dataframe\">\n",
       "  <thead>\n",
       "    <tr style=\"text-align: right;\">\n",
       "      <th></th>\n",
       "      <th>indice</th>\n",
       "    </tr>\n",
       "    <tr>\n",
       "      <th>date</th>\n",
       "      <th></th>\n",
       "    </tr>\n",
       "  </thead>\n",
       "  <tbody>\n",
       "    <tr>\n",
       "      <th>2017-07-31</th>\n",
       "      <td>0.009194</td>\n",
       "    </tr>\n",
       "    <tr>\n",
       "      <th>2017-08-31</th>\n",
       "      <td>0.000717</td>\n",
       "    </tr>\n",
       "    <tr>\n",
       "      <th>2017-09-30</th>\n",
       "      <td>0.018780</td>\n",
       "    </tr>\n",
       "    <tr>\n",
       "      <th>2017-10-31</th>\n",
       "      <td>0.000315</td>\n",
       "    </tr>\n",
       "    <tr>\n",
       "      <th>2017-11-30</th>\n",
       "      <td>0.017883</td>\n",
       "    </tr>\n",
       "    <tr>\n",
       "      <th>2017-12-31</th>\n",
       "      <td>0.088264</td>\n",
       "    </tr>\n",
       "    <tr>\n",
       "      <th>2018-01-31</th>\n",
       "      <td>0.011017</td>\n",
       "    </tr>\n",
       "    <tr>\n",
       "      <th>2018-02-28</th>\n",
       "      <td>0.008140</td>\n",
       "    </tr>\n",
       "    <tr>\n",
       "      <th>2018-03-31</th>\n",
       "      <td>0.007450</td>\n",
       "    </tr>\n",
       "    <tr>\n",
       "      <th>2018-04-30</th>\n",
       "      <td>0.002372</td>\n",
       "    </tr>\n",
       "  </tbody>\n",
       "</table>\n",
       "</div>"
      ],
      "text/plain": [
       "              indice\n",
       "date                \n",
       "2017-07-31  0.009194\n",
       "2017-08-31  0.000717\n",
       "2017-09-30  0.018780\n",
       "2017-10-31  0.000315\n",
       "2017-11-30  0.017883\n",
       "2017-12-31  0.088264\n",
       "2018-01-31  0.011017\n",
       "2018-02-28  0.008140\n",
       "2018-03-31  0.007450\n",
       "2018-04-30  0.002372"
      ]
     },
     "execution_count": 109,
     "metadata": {},
     "output_type": "execute_result"
    }
   ],
   "source": [
    "data = data.set_index('date')\n",
    "data = data.groupby(data.index).mean()\n",
    "data = data.asfreq(\"M\",method='backfill')\n",
    "data = data.sort_index()\n",
    "data"
   ]
  },
  {
   "cell_type": "code",
   "execution_count": 110,
   "metadata": {},
   "outputs": [
    {
     "data": {
      "text/plain": [
       "<matplotlib.legend.Legend at 0x7f8eecbacaf0>"
      ]
     },
     "execution_count": 110,
     "metadata": {},
     "output_type": "execute_result"
    },
    {
     "data": {
      "image/png": "[encoded data removed]",
      "text/plain": [
       "<Figure size 900x400 with 1 Axes>"
      ]
     },
     "metadata": {},
     "output_type": "display_data"
    }
   ],
   "source": [
    "fig, ax = plt.subplots(figsize=(9, 4))\n",
    "data['indice'].plot(ax=ax, label='indice')\n",
    "ax.legend()"
   ]
  },
  {
   "cell_type": "markdown",
   "metadata": {},
   "source": [
    "Model validation    "
   ]
  },
  {
   "cell_type": "code",
   "execution_count": 111,
   "metadata": {},
   "outputs": [
    {
     "name": "stdout",
     "output_type": "stream",
     "text": [
      "Train dates : 2017-07-31 00:00:00 --- 2020-04-30 00:00:00  (n=34)\n",
      "Test dates  : 2020-05-31 00:00:00 --- 2020-07-31 00:00:00  (n=3)\n"
     ]
    },
    {
     "data": {
      "image/png": "[encoded data removed]",
      "text/plain": [
       "<Figure size 900x400 with 1 Axes>"
      ]
     },
     "metadata": {},
     "output_type": "display_data"
    }
   ],
   "source": [
    "steps = 3\n",
    "\n",
    "data_train = data[:-steps]\n",
    "data_test  = data[-steps:]\n",
    "\n",
    "print(f\"Train dates : {data_train.index.min()} --- {data_train.index.max()}  (n={len(data_train)})\")\n",
    "print(f\"Test dates  : {data_test.index.min()} --- {data_test.index.max()}  (n={len(data_test)})\")\n",
    "\n",
    "# Plotando os dados\n",
    "fig, ax=plt.subplots(figsize=(9, 4))\n",
    "data_train['indice'].plot(ax=ax, label='train')\n",
    "data_test['indice'].plot(ax=ax, label='test')\n",
    "ax.legend();"
   ]
  },
  {
   "cell_type": "code",
   "execution_count": 112,
   "metadata": {},
   "outputs": [
    {
     "name": "stdout",
     "output_type": "stream",
     "text": [
      "Number of models compared: 900.\n"
     ]
    },
    {
     "name": "stderr",
     "output_type": "stream",
     "text": [
      "lags grid: 100%|██████████| 9/9 [01:07<00:00,  7.47s/it]\n"
     ]
    },
    {
     "name": "stdout",
     "output_type": "stream",
     "text": [
      "`Forecaster` refitted using the best-found lags and parameters, and the whole data set: \n",
      "  Lags: [1 2 3 4] \n",
      "  Parameters: {'n_estimators': 74, 'max_depth': 13}\n",
      "  Backtesting metric: 0.00020381449511824856\n",
      "\n"
     ]
    },
    {
     "data": {
      "text/html": [
       "<div>\n",
       "<style scoped>\n",
       "    .dataframe tbody tr th:only-of-type {\n",
       "        vertical-align: middle;\n",
       "    }\n",
       "\n",
       "    .dataframe tbody tr th {\n",
       "        vertical-align: top;\n",
       "    }\n",
       "\n",
       "    .dataframe thead th {\n",
       "        text-align: right;\n",
       "    }\n",
       "</style>\n",
       "<table border=\"1\" class=\"dataframe\">\n",
       "  <thead>\n",
       "    <tr style=\"text-align: right;\">\n",
       "      <th></th>\n",
       "      <th>lags</th>\n",
       "      <th>params</th>\n",
       "      <th>mean_squared_error</th>\n",
       "      <th>n_estimators</th>\n",
       "      <th>max_depth</th>\n",
       "    </tr>\n",
       "  </thead>\n",
       "  <tbody>\n",
       "    <tr>\n",
       "      <th>285</th>\n",
       "      <td>[1, 2, 3, 4]</td>\n",
       "      <td>{'n_estimators': 74, 'max_depth': 13}</td>\n",
       "      <td>0.000204</td>\n",
       "      <td>74</td>\n",
       "      <td>13</td>\n",
       "    </tr>\n",
       "    <tr>\n",
       "      <th>283</th>\n",
       "      <td>[1, 2, 3, 4]</td>\n",
       "      <td>{'n_estimators': 74, 'max_depth': 19}</td>\n",
       "      <td>0.000204</td>\n",
       "      <td>74</td>\n",
       "      <td>19</td>\n",
       "    </tr>\n",
       "    <tr>\n",
       "      <th>295</th>\n",
       "      <td>[1, 2, 3, 4]</td>\n",
       "      <td>{'n_estimators': 75, 'max_depth': 23}</td>\n",
       "      <td>0.000205</td>\n",
       "      <td>75</td>\n",
       "      <td>23</td>\n",
       "    </tr>\n",
       "    <tr>\n",
       "      <th>245</th>\n",
       "      <td>[1, 2, 3, 4]</td>\n",
       "      <td>{'n_estimators': 75, 'max_depth': 27}</td>\n",
       "      <td>0.000205</td>\n",
       "      <td>75</td>\n",
       "      <td>27</td>\n",
       "    </tr>\n",
       "    <tr>\n",
       "      <th>256</th>\n",
       "      <td>[1, 2, 3, 4]</td>\n",
       "      <td>{'n_estimators': 73, 'max_depth': 7}</td>\n",
       "      <td>0.000205</td>\n",
       "      <td>73</td>\n",
       "      <td>7</td>\n",
       "    </tr>\n",
       "    <tr>\n",
       "      <th>...</th>\n",
       "      <td>...</td>\n",
       "      <td>...</td>\n",
       "      <td>...</td>\n",
       "      <td>...</td>\n",
       "      <td>...</td>\n",
       "    </tr>\n",
       "    <tr>\n",
       "      <th>704</th>\n",
       "      <td>[1, 2, 3, 4, 5, 6, 7, 8, 9]</td>\n",
       "      <td>{'n_estimators': 83, 'max_depth': 27}</td>\n",
       "      <td>0.000939</td>\n",
       "      <td>83</td>\n",
       "      <td>27</td>\n",
       "    </tr>\n",
       "    <tr>\n",
       "      <th>773</th>\n",
       "      <td>[1, 2, 3, 4, 5, 6, 7, 8, 9]</td>\n",
       "      <td>{'n_estimators': 81, 'max_depth': 24}</td>\n",
       "      <td>0.000945</td>\n",
       "      <td>81</td>\n",
       "      <td>24</td>\n",
       "    </tr>\n",
       "    <tr>\n",
       "      <th>717</th>\n",
       "      <td>[1, 2, 3, 4, 5, 6, 7, 8, 9]</td>\n",
       "      <td>{'n_estimators': 79, 'max_depth': 9}</td>\n",
       "      <td>0.000947</td>\n",
       "      <td>79</td>\n",
       "      <td>9</td>\n",
       "    </tr>\n",
       "    <tr>\n",
       "      <th>788</th>\n",
       "      <td>[1, 2, 3, 4, 5, 6, 7, 8, 9]</td>\n",
       "      <td>{'n_estimators': 95, 'max_depth': 22}</td>\n",
       "      <td>0.000950</td>\n",
       "      <td>95</td>\n",
       "      <td>22</td>\n",
       "    </tr>\n",
       "    <tr>\n",
       "      <th>636</th>\n",
       "      <td>[1, 2, 3, 4, 5, 6, 7, 8]</td>\n",
       "      <td>{'n_estimators': 10, 'max_depth': 25}</td>\n",
       "      <td>0.001091</td>\n",
       "      <td>10</td>\n",
       "      <td>25</td>\n",
       "    </tr>\n",
       "  </tbody>\n",
       "</table>\n",
       "<p>900 rows × 5 columns</p>\n",
       "</div>"
      ],
      "text/plain": [
       "                            lags                                 params  \\\n",
       "285                 [1, 2, 3, 4]  {'n_estimators': 74, 'max_depth': 13}   \n",
       "283                 [1, 2, 3, 4]  {'n_estimators': 74, 'max_depth': 19}   \n",
       "295                 [1, 2, 3, 4]  {'n_estimators': 75, 'max_depth': 23}   \n",
       "245                 [1, 2, 3, 4]  {'n_estimators': 75, 'max_depth': 27}   \n",
       "256                 [1, 2, 3, 4]   {'n_estimators': 73, 'max_depth': 7}   \n",
       "..                           ...                                    ...   \n",
       "704  [1, 2, 3, 4, 5, 6, 7, 8, 9]  {'n_estimators': 83, 'max_depth': 27}   \n",
       "773  [1, 2, 3, 4, 5, 6, 7, 8, 9]  {'n_estimators': 81, 'max_depth': 24}   \n",
       "717  [1, 2, 3, 4, 5, 6, 7, 8, 9]   {'n_estimators': 79, 'max_depth': 9}   \n",
       "788  [1, 2, 3, 4, 5, 6, 7, 8, 9]  {'n_estimators': 95, 'max_depth': 22}   \n",
       "636     [1, 2, 3, 4, 5, 6, 7, 8]  {'n_estimators': 10, 'max_depth': 25}   \n",
       "\n",
       "     mean_squared_error  n_estimators  max_depth  \n",
       "285            0.000204            74         13  \n",
       "283            0.000204            74         19  \n",
       "295            0.000205            75         23  \n",
       "245            0.000205            75         27  \n",
       "256            0.000205            73          7  \n",
       "..                  ...           ...        ...  \n",
       "704            0.000939            83         27  \n",
       "773            0.000945            81         24  \n",
       "717            0.000947            79          9  \n",
       "788            0.000950            95         22  \n",
       "636            0.001091            10         25  \n",
       "\n",
       "[900 rows x 5 columns]"
      ]
     },
     "execution_count": 112,
     "metadata": {},
     "output_type": "execute_result"
    }
   ],
   "source": [
    "forecaster = ForecasterAutoreg(\n",
    "                 regressor = RandomForestRegressor(random_state=123),\n",
    "                 lags      = 10 # O valor será substituído durante o tunning\n",
    "             )\n",
    "\n",
    "# Valores de lag a testar\n",
    "lags_grid = [2, 3, 4, 5, 6, 7, 8, 9, 10]\n",
    "\n",
    "# Regressor hyperparameters\n",
    "param_distributions = {'n_estimators': np.arange(start=10, stop=100, step=1, dtype=int),\n",
    "                       'max_depth': np.arange(start=5, stop=30, step=1, dtype=int)}\n",
    "\n",
    "results = random_search_forecaster(\n",
    "              forecaster           = forecaster,\n",
    "              y                    = data['indice'],\n",
    "              steps                = steps,\n",
    "              lags_grid            = lags_grid,\n",
    "              param_distributions  = param_distributions,\n",
    "              n_iter               = 100,\n",
    "              metric               = 'mean_squared_error',\n",
    "              refit                = True,\n",
    "              initial_train_size   = len(data['indice']) - steps,\n",
    "              fixed_train_size     = False,\n",
    "              return_best          = True,\n",
    "              random_state         = 123,\n",
    "              verbose              = False\n",
    "          )\n",
    "\n",
    "results"
   ]
  },
  {
   "cell_type": "code",
   "execution_count": 113,
   "metadata": {},
   "outputs": [
    {
     "data": {
      "text/plain": [
       "================= \n",
       "ForecasterAutoreg \n",
       "================= \n",
       "Regressor: RandomForestRegressor(max_depth=25, n_estimators=10, random_state=123) \n",
       "Lags: [1 2 3 4 5 6 7 8 9] \n",
       "Transformer for y: None \n",
       "Transformer for exog: None \n",
       "Window size: 9 \n",
       "Weight function included: False \n",
       "Differentiation order: None \n",
       "Exogenous included: False \n",
       "Type of exogenous variable: None \n",
       "Exogenous variables names: None \n",
       "Training range: [Timestamp('2017-07-31 00:00:00'), Timestamp('2020-04-30 00:00:00')] \n",
       "Training index type: DatetimeIndex \n",
       "Training index frequency: M \n",
       "Regressor parameters: {'bootstrap': True, 'ccp_alpha': 0.0, 'criterion': 'squared_error', 'max_depth': 25, 'max_features': 1.0, 'max_leaf_nodes': None, 'max_samples': None, 'min_impurity_decrease': 0.0, 'min_samples_leaf': 1, 'min_samples_split': 2, 'min_weight_fraction_leaf': 0.0, 'n_estimators': 10, 'n_jobs': None, 'oob_score': False, 'random_state': 123, 'verbose': 0, 'warm_start': False} \n",
       "fit_kwargs: {} \n",
       "Creation date: 2023-11-01 21:50:32 \n",
       "Last fit date: 2023-11-01 21:50:32 \n",
       "Skforecast version: 0.10.1 \n",
       "Python version: 3.10.12 \n",
       "Forecaster id: None "
      ]
     },
     "execution_count": 113,
     "metadata": {},
     "output_type": "execute_result"
    }
   ],
   "source": [
    "# Configura e treina um RandomForestRegressor para série temporal\n",
    "# Os parâmetros foram retirados do melhor modelo encontrado no material de origem\n",
    "# Para conseguir os melhores parâmetros se faz necessário realizer hyperparameter tunning (verifique artigo original)\n",
    "forecaster = ForecasterAutoreg(\n",
    "                regressor = RandomForestRegressor(max_depth=25, n_estimators=10, random_state=123),\n",
    "                lags      = 9\n",
    "             )\n",
    "\n",
    "forecaster.fit(y=data_train['indice'])\n",
    "forecaster"
   ]
  },
  {
   "cell_type": "code",
   "execution_count": 114,
   "metadata": {},
   "outputs": [
    {
     "data": {
      "text/plain": [
       "2020-05-31    0.007851\n",
       "2020-06-30    0.043390\n",
       "2020-07-31    0.035896\n",
       "Freq: M, Name: pred, dtype: float64"
      ]
     },
     "execution_count": 114,
     "metadata": {},
     "output_type": "execute_result"
    }
   ],
   "source": [
    "# Faz predição no conjunto de teste\n",
    "predictions = forecaster.predict(steps=steps)\n",
    "predictions"
   ]
  },
  {
   "cell_type": "code",
   "execution_count": 115,
   "metadata": {},
   "outputs": [
    {
     "data": {
      "image/png": "[encoded data removed]",
      "text/plain": [
       "<Figure size 900x400 with 1 Axes>"
      ]
     },
     "metadata": {},
     "output_type": "display_data"
    }
   ],
   "source": [
    "# Plota a predição, comparando com valores reais\n",
    "fig, ax=plt.subplots(figsize=(9, 4))\n",
    "data_train['indice'].plot(ax=ax, label='train')\n",
    "data_test['indice'].plot(ax=ax, label='test')\n",
    "predictions.plot(ax=ax, label='predictions', color='green')\n",
    "ax.legend();\n",
    "# Aqui fica claro que o skforecast não fez um bom trabalho, mesmo com tunning"
   ]
  },
  {
   "cell_type": "code",
   "execution_count": 116,
   "metadata": {},
   "outputs": [
    {
     "name": "stdout",
     "output_type": "stream",
     "text": [
      "Defaulting to user installation because normal site-packages is not writeable\n",
      "Requirement already satisfied: pmdarima in /workspace/.pyenv_mirror/user/current/lib/python3.10/site-packages (2.0.4)\n",
      "Requirement already satisfied: scikit-learn>=0.22 in /workspace/.pyenv_mirror/user/current/lib/python3.10/site-packages (from pmdarima) (1.3.2)\n",
      "Requirement already satisfied: joblib>=0.11 in /workspace/.pyenv_mirror/user/current/lib/python3.10/site-packages (from pmdarima) (1.3.2)\n",
      "Requirement already satisfied: scipy>=1.3.2 in /workspace/.pyenv_mirror/user/current/lib/python3.10/site-packages (from pmdarima) (1.11.3)\n",
      "Requirement already satisfied: statsmodels>=0.13.2 in /workspace/.pyenv_mirror/user/current/lib/python3.10/site-packages (from pmdarima) (0.14.0)\n",
      "Requirement already satisfied: urllib3 in /workspace/.pyenv_mirror/user/current/lib/python3.10/site-packages (from pmdarima) (2.0.7)\n",
      "Requirement already satisfied: pandas>=0.19 in /workspace/.pyenv_mirror/user/current/lib/python3.10/site-packages (from pmdarima) (2.0.3)\n",
      "Requirement already satisfied: Cython!=0.29.18,!=0.29.31,>=0.29 in /workspace/.pyenv_mirror/user/current/lib/python3.10/site-packages (from pmdarima) (3.0.5)\n",
      "Requirement already satisfied: packaging>=17.1 in /workspace/.pyenv_mirror/user/current/lib/python3.10/site-packages (from pmdarima) (23.2)\n",
      "Requirement already satisfied: setuptools!=50.0.0,>=38.6.0 in /usr/lib/python3/dist-packages (from pmdarima) (59.6.0)\n",
      "Requirement already satisfied: numpy>=1.21.2 in /workspace/.pyenv_mirror/user/current/lib/python3.10/site-packages (from pmdarima) (1.25.2)\n",
      "Requirement already satisfied: python-dateutil>=2.8.2 in /workspace/.pyenv_mirror/user/current/lib/python3.10/site-packages (from pandas>=0.19->pmdarima) (2.8.2)\n",
      "Requirement already satisfied: tzdata>=2022.1 in /workspace/.pyenv_mirror/user/current/lib/python3.10/site-packages (from pandas>=0.19->pmdarima) (2023.3)\n",
      "Requirement already satisfied: pytz>=2020.1 in /workspace/.pyenv_mirror/user/current/lib/python3.10/site-packages (from pandas>=0.19->pmdarima) (2023.3.post1)\n",
      "Requirement already satisfied: threadpoolctl>=2.0.0 in /workspace/.pyenv_mirror/user/current/lib/python3.10/site-packages (from scikit-learn>=0.22->pmdarima) (3.2.0)\n",
      "Requirement already satisfied: patsy>=0.5.2 in /workspace/.pyenv_mirror/user/current/lib/python3.10/site-packages (from statsmodels>=0.13.2->pmdarima) (0.5.3)\n",
      "Requirement already satisfied: six in /usr/lib/python3/dist-packages (from patsy>=0.5.2->statsmodels>=0.13.2->pmdarima) (1.16.0)\n"
     ]
    }
   ],
   "source": [
    "# Vamos tentar com o ARIMA\n",
    "!pip install pmdarima"
   ]
  },
  {
   "cell_type": "code",
   "execution_count": 117,
   "metadata": {},
   "outputs": [
    {
     "name": "stdout",
     "output_type": "stream",
     "text": [
      "Performing stepwise search to minimize aic\n",
      " ARIMA(2,0,2)(0,0,0)[0] intercept   : AIC=-157.762, Time=0.22 sec\n",
      " ARIMA(0,0,0)(0,0,0)[0] intercept   : AIC=-161.196, Time=0.02 sec\n",
      " ARIMA(1,0,0)(0,0,0)[0] intercept   : AIC=-159.598, Time=0.03 sec\n",
      " ARIMA(0,0,1)(0,0,0)[0] intercept   : AIC=-159.778, Time=0.04 sec\n",
      " ARIMA(0,0,0)(0,0,0)[0]             : AIC=-154.394, Time=0.01 sec\n",
      " ARIMA(1,0,1)(0,0,0)[0] intercept   : AIC=inf, Time=0.08 sec\n",
      "\n",
      "Best model:  ARIMA(0,0,0)(0,0,0)[0] intercept\n",
      "Total fit time: 0.404 seconds\n"
     ]
    },
    {
     "data": {
      "text/html": [
       "<div>\n",
       "<style scoped>\n",
       "    .dataframe tbody tr th:only-of-type {\n",
       "        vertical-align: middle;\n",
       "    }\n",
       "\n",
       "    .dataframe tbody tr th {\n",
       "        vertical-align: top;\n",
       "    }\n",
       "\n",
       "    .dataframe thead th {\n",
       "        text-align: right;\n",
       "    }\n",
       "</style>\n",
       "<table border=\"1\" class=\"dataframe\">\n",
       "  <thead>\n",
       "    <tr style=\"text-align: right;\">\n",
       "      <th></th>\n",
       "      <th>Prediction</th>\n",
       "    </tr>\n",
       "    <tr>\n",
       "      <th>date</th>\n",
       "      <th></th>\n",
       "    </tr>\n",
       "  </thead>\n",
       "  <tbody>\n",
       "    <tr>\n",
       "      <th>2020-05-31</th>\n",
       "      <td>0.011587</td>\n",
       "    </tr>\n",
       "    <tr>\n",
       "      <th>2020-06-30</th>\n",
       "      <td>0.011587</td>\n",
       "    </tr>\n",
       "    <tr>\n",
       "      <th>2020-07-31</th>\n",
       "      <td>0.011587</td>\n",
       "    </tr>\n",
       "  </tbody>\n",
       "</table>\n",
       "</div>"
      ],
      "text/plain": [
       "            Prediction\n",
       "date                  \n",
       "2020-05-31    0.011587\n",
       "2020-06-30    0.011587\n",
       "2020-07-31    0.011587"
      ]
     },
     "execution_count": 117,
     "metadata": {},
     "output_type": "execute_result"
    }
   ],
   "source": [
    "# O ARIMA vem com um tunning automático, o auto_arima\n",
    "from pmdarima.arima import auto_arima\n",
    "\n",
    "model = auto_arima(data_train['indice'], trace=True, error_action='ignore', suppress_warnings=True)\n",
    "# Treina o modelo\n",
    "model.fit(data_train['indice'])\n",
    "# Previsao\n",
    "forecast = model.predict(n_periods=len(data_test))\n",
    "# Converte para um dataframe\n",
    "forecast = pd.DataFrame(forecast,index = data_test.index,columns=['Prediction'])\n",
    "forecast"
   ]
  },
  {
   "cell_type": "code",
   "execution_count": 118,
   "metadata": {},
   "outputs": [
    {
     "data": {
      "image/png": "[encoded data removed]",
      "text/plain": [
       "<Figure size 900x400 with 1 Axes>"
      ]
     },
     "metadata": {},
     "output_type": "display_data"
    }
   ],
   "source": [
    "# Plota a predição, comparando com valores reais\n",
    "fig, ax=plt.subplots(figsize=(9, 4))\n",
    "data_train['indice'].plot(ax=ax, label='train')\n",
    "data_test['indice'].plot(ax=ax, label='test')\n",
    "forecast['Prediction'].plot(ax=ax, label='predictions', color='green')\n",
    "ax.legend();"
   ]
  },
  {
   "cell_type": "code",
   "execution_count": null,
   "metadata": {},
   "outputs": [],
   "source": []
  },
  {
   "cell_type": "code",
   "execution_count": 119,
   "metadata": {},
   "outputs": [],
   "source": [
    "import pandas as pd\n",
    "import numpy as np\n",
    "\n",
    "# Criar dados sintéticos em duas colunas diferentes\n",
    "np.random.seed(42)\n",
    "data_length = 10\n",
    "coluna1 = np.random.rand(data_length)\n",
    "\n",
    "# Criar um DataFrame com as colunas e nomes específicos\n",
    "df = pd.DataFrame({'Coluna': coluna1})\n",
    "\n",
    "# Criar um índice com datas mensais a partir de uma data inicial\n",
    "start_date = '2018-10-31'\n",
    "date_rng = pd.date_range(start=start_date, periods=data_length, freq='M')\n",
    "\n",
    "# Aplicar o índice ao DataFrame\n",
    "df.index = date_rng\n",
    "\n",
    "df = df.reset_index().rename(columns={'index':'date', 'Coluna': 'indice'})[['date', 'indice']].set_index('date')\n",
    "# Aplique o modelo aos novos dados\n",
    "forecast = model.predict(n_periods=len(df))\n",
    "forecast_df = pd.DataFrame(forecast, index=df.index, columns=['Prediction'])"
   ]
  },
  {
   "cell_type": "code",
   "execution_count": 120,
   "metadata": {},
   "outputs": [],
   "source": [
    "df = df.reset_index().rename(columns={'index':'date', 'Coluna': 'indice'})[['date', 'indice']].set_index('date')"
   ]
  },
  {
   "cell_type": "code",
   "execution_count": 121,
   "metadata": {},
   "outputs": [],
   "source": [
    "# Aplique o modelo aos novos dados\n",
    "forecast = model.predict(n_periods=len(df))\n",
    "forecast_df = pd.DataFrame(forecast, index=df.index, columns=['Prediction'])"
   ]
  },
  {
   "cell_type": "code",
   "execution_count": 122,
   "metadata": {},
   "outputs": [
    {
     "data": {
      "text/html": [
       "<div>\n",
       "<style scoped>\n",
       "    .dataframe tbody tr th:only-of-type {\n",
       "        vertical-align: middle;\n",
       "    }\n",
       "\n",
       "    .dataframe tbody tr th {\n",
       "        vertical-align: top;\n",
       "    }\n",
       "\n",
       "    .dataframe thead th {\n",
       "        text-align: right;\n",
       "    }\n",
       "</style>\n",
       "<table border=\"1\" class=\"dataframe\">\n",
       "  <thead>\n",
       "    <tr style=\"text-align: right;\">\n",
       "      <th></th>\n",
       "      <th>Prediction</th>\n",
       "    </tr>\n",
       "    <tr>\n",
       "      <th>date</th>\n",
       "      <th></th>\n",
       "    </tr>\n",
       "  </thead>\n",
       "  <tbody>\n",
       "    <tr>\n",
       "      <th>2018-10-31</th>\n",
       "      <td>NaN</td>\n",
       "    </tr>\n",
       "    <tr>\n",
       "      <th>2018-11-30</th>\n",
       "      <td>NaN</td>\n",
       "    </tr>\n",
       "    <tr>\n",
       "      <th>2018-12-31</th>\n",
       "      <td>NaN</td>\n",
       "    </tr>\n",
       "    <tr>\n",
       "      <th>2019-01-31</th>\n",
       "      <td>NaN</td>\n",
       "    </tr>\n",
       "    <tr>\n",
       "      <th>2019-02-28</th>\n",
       "      <td>NaN</td>\n",
       "    </tr>\n",
       "    <tr>\n",
       "      <th>2019-03-31</th>\n",
       "      <td>NaN</td>\n",
       "    </tr>\n",
       "    <tr>\n",
       "      <th>2019-04-30</th>\n",
       "      <td>NaN</td>\n",
       "    </tr>\n",
       "    <tr>\n",
       "      <th>2019-05-31</th>\n",
       "      <td>NaN</td>\n",
       "    </tr>\n",
       "    <tr>\n",
       "      <th>2019-06-30</th>\n",
       "      <td>NaN</td>\n",
       "    </tr>\n",
       "    <tr>\n",
       "      <th>2019-07-31</th>\n",
       "      <td>NaN</td>\n",
       "    </tr>\n",
       "  </tbody>\n",
       "</table>\n",
       "</div>"
      ],
      "text/plain": [
       "            Prediction\n",
       "date                  \n",
       "2018-10-31         NaN\n",
       "2018-11-30         NaN\n",
       "2018-12-31         NaN\n",
       "2019-01-31         NaN\n",
       "2019-02-28         NaN\n",
       "2019-03-31         NaN\n",
       "2019-04-30         NaN\n",
       "2019-05-31         NaN\n",
       "2019-06-30         NaN\n",
       "2019-07-31         NaN"
      ]
     },
     "execution_count": 122,
     "metadata": {},
     "output_type": "execute_result"
    }
   ],
   "source": [
    "forecast_df"
   ]
  },
  {
   "cell_type": "code",
   "execution_count": 123,
   "metadata": {},
   "outputs": [
    {
     "name": "stderr",
     "output_type": "stream",
     "text": [
      "/workspace/.pyenv_mirror/user/current/lib/python3.10/site-packages/skforecast/utils/utils.py:788: UserWarning: `y` has DatetimeIndex index but no frequency. Index is overwritten with a RangeIndex of step 1.\n",
      "  warnings.warn(\n",
      "/workspace/.pyenv_mirror/user/current/lib/python3.10/site-packages/skforecast/utils/utils.py:788: UserWarning: `y` has DatetimeIndex index but no frequency. Index is overwritten with a RangeIndex of step 1.\n",
      "  warnings.warn(\n",
      "/workspace/.pyenv_mirror/user/current/lib/python3.10/site-packages/skforecast/utils/utils.py:850: UserWarning: `last_window` has DatetimeIndex index but no frequency. Index is overwritten with a RangeIndex of step 1.\n",
      "  warnings.warn(\n"
     ]
    },
    {
     "data": {
      "text/plain": [
       "9     0.708073\n",
       "10    0.708073\n",
       "11    0.708073\n",
       "Name: pred, dtype: float64"
      ]
     },
     "execution_count": 123,
     "metadata": {},
     "output_type": "execute_result"
    }
   ],
   "source": [
    "# Configura e treina um RandomForestRegressor para série temporal\n",
    "# Os parâmetros foram retirados do melhor modelo encontrado no material de origem\n",
    "# Para conseguir os melhores parâmetros se faz necessário realizer hyperparameter tunning (verifique artigo original)\n",
    "forecaster = ForecasterAutoreg(\n",
    "                regressor = RandomForestRegressor(max_depth=3, n_estimators=10, random_state=123),\n",
    "                lags      = 9\n",
    "             )\n",
    "\n",
    "forecaster.fit(y=df['indice'])\n",
    "forecaster\n",
    "\n",
    "# Faz predição no conjunto de teste\n",
    "predictions = forecaster.predict(steps=steps)\n",
    "predictions"
   ]
  }
 ],
 "metadata": {
  "kernelspec": {
   "display_name": "Python 3",
   "language": "python",
   "name": "python3"
  },
  "language_info": {
   "codemirror_mode": {
    "name": "ipython",
    "version": 3
   },
   "file_extension": ".py",
   "mimetype": "text/x-python",
   "name": "python",
   "nbconvert_exporter": "python",
   "pygments_lexer": "ipython3",
   "version": "3.10.12"
  }
 },
 "nbformat": 4,
 "nbformat_minor": 2
}
