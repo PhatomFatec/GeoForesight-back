{
 "cells": [
  {
   "cell_type": "code",
   "execution_count": 81,
   "metadata": {},
   "outputs": [
    {
     "name": "stderr",
     "output_type": "stream",
     "text": [
      "/home/lguirald/git/personal/1-environments/api/lib/python3.10/site-packages/tqdm/auto.py:21: TqdmWarning: IProgress not found. Please update jupyter and ipywidgets. See https://ipywidgets.readthedocs.io/en/stable/user_install.html\n",
      "  from .autonotebook import tqdm as notebook_tqdm\n"
     ]
    }
   ],
   "source": [
    "import matplotlib.pyplot as plt\n",
    "import pandas as pd\n",
    "import numpy as np\n",
    "import json\n",
    "import os\n",
    "\n",
    "from skforecast.model_selection import random_search_forecaster\n",
    "from skforecast.ForecasterAutoreg import ForecasterAutoreg\n",
    "from sklearn.ensemble import RandomForestRegressor"
   ]
  },
  {
   "cell_type": "code",
   "execution_count": 82,
   "metadata": {},
   "outputs": [
    {
     "name": "stderr",
     "output_type": "stream",
     "text": [
      "/tmp/ipykernel_118671/730768136.py:16: FutureWarning: The behavior of DataFrame concatenation with empty or all-NA entries is deprecated. In a future version, this will no longer exclude empty or all-NA columns when determining the result dtypes. To retain the old behavior, exclude the relevant entries before the concat operation.\n",
      "  data = pd.concat([data, data_temp], ignore_index=True)\n"
     ]
    }
   ],
   "source": [
    "data = pd.DataFrame(columns=['date', 'indice'])\n",
    "\n",
    "diretorio = '../data/rl/'\n",
    "\n",
    "arquivos_json = [arquivo for arquivo in os.listdir(diretorio) if arquivo.endswith('.json')]\n",
    "\n",
    "for arquivo_json in arquivos_json:\n",
    "    with open(os.path.join(diretorio, arquivo_json), 'r') as file:\n",
    "        d = json.loads(file.read())\n",
    "        \n",
    "        data_temp = pd.DataFrame({\n",
    "            'date': d['Indices']['NDVI']['Serie Processada']['Data'],\n",
    "            'indice': d['Indices']['NDVI']['Serie Processada']['Indice']\n",
    "        })\n",
    "\n",
    "        data = pd.concat([data, data_temp], ignore_index=True)"
   ]
  },
  {
   "cell_type": "code",
   "execution_count": 83,
   "metadata": {},
   "outputs": [
    {
     "data": {
      "text/html": [
       "<div>\n",
       "<style scoped>\n",
       "    .dataframe tbody tr th:only-of-type {\n",
       "        vertical-align: middle;\n",
       "    }\n",
       "\n",
       "    .dataframe tbody tr th {\n",
       "        vertical-align: top;\n",
       "    }\n",
       "\n",
       "    .dataframe thead th {\n",
       "        text-align: right;\n",
       "    }\n",
       "</style>\n",
       "<table border=\"1\" class=\"dataframe\">\n",
       "  <thead>\n",
       "    <tr style=\"text-align: right;\">\n",
       "      <th></th>\n",
       "      <th>date</th>\n",
       "      <th>indice</th>\n",
       "    </tr>\n",
       "  </thead>\n",
       "  <tbody>\n",
       "    <tr>\n",
       "      <th>0</th>\n",
       "      <td>2017-08-21</td>\n",
       "      <td>0.018645</td>\n",
       "    </tr>\n",
       "    <tr>\n",
       "      <th>1</th>\n",
       "      <td>2017-10-16</td>\n",
       "      <td>0.024464</td>\n",
       "    </tr>\n",
       "    <tr>\n",
       "      <th>2</th>\n",
       "      <td>2017-11-09</td>\n",
       "      <td>0.015563</td>\n",
       "    </tr>\n",
       "    <tr>\n",
       "      <th>3</th>\n",
       "      <td>2017-11-25</td>\n",
       "      <td>0.003720</td>\n",
       "    </tr>\n",
       "    <tr>\n",
       "      <th>4</th>\n",
       "      <td>2017-12-11</td>\n",
       "      <td>0.005570</td>\n",
       "    </tr>\n",
       "    <tr>\n",
       "      <th>...</th>\n",
       "      <td>...</td>\n",
       "      <td>...</td>\n",
       "    </tr>\n",
       "    <tr>\n",
       "      <th>131</th>\n",
       "      <td>2018-01-09</td>\n",
       "      <td>-0.055066</td>\n",
       "    </tr>\n",
       "    <tr>\n",
       "      <th>132</th>\n",
       "      <td>2018-01-25</td>\n",
       "      <td>0.114627</td>\n",
       "    </tr>\n",
       "    <tr>\n",
       "      <th>133</th>\n",
       "      <td>2018-03-14</td>\n",
       "      <td>0.653819</td>\n",
       "    </tr>\n",
       "    <tr>\n",
       "      <th>134</th>\n",
       "      <td>2018-05-25</td>\n",
       "      <td>0.022128</td>\n",
       "    </tr>\n",
       "    <tr>\n",
       "      <th>135</th>\n",
       "      <td>2018-07-12</td>\n",
       "      <td>0.005242</td>\n",
       "    </tr>\n",
       "  </tbody>\n",
       "</table>\n",
       "<p>136 rows × 2 columns</p>\n",
       "</div>"
      ],
      "text/plain": [
       "           date    indice\n",
       "0    2017-08-21  0.018645\n",
       "1    2017-10-16  0.024464\n",
       "2    2017-11-09  0.015563\n",
       "3    2017-11-25  0.003720\n",
       "4    2017-12-11  0.005570\n",
       "..          ...       ...\n",
       "131  2018-01-09 -0.055066\n",
       "132  2018-01-25  0.114627\n",
       "133  2018-03-14  0.653819\n",
       "134  2018-05-25  0.022128\n",
       "135  2018-07-12  0.005242\n",
       "\n",
       "[136 rows x 2 columns]"
      ]
     },
     "execution_count": 83,
     "metadata": {},
     "output_type": "execute_result"
    }
   ],
   "source": [
    "data"
   ]
  },
  {
   "cell_type": "code",
   "execution_count": 84,
   "metadata": {},
   "outputs": [
    {
     "data": {
      "text/plain": [
       "date       object\n",
       "indice    float64\n",
       "dtype: object"
      ]
     },
     "execution_count": 84,
     "metadata": {},
     "output_type": "execute_result"
    }
   ],
   "source": [
    "data.dtypes"
   ]
  },
  {
   "cell_type": "code",
   "execution_count": 85,
   "metadata": {},
   "outputs": [],
   "source": [
    "data['date'] = pd.to_datetime(data['date'], format='%Y-%m-%d')"
   ]
  },
  {
   "cell_type": "code",
   "execution_count": 86,
   "metadata": {},
   "outputs": [
    {
     "data": {
      "text/html": [
       "<div>\n",
       "<style scoped>\n",
       "    .dataframe tbody tr th:only-of-type {\n",
       "        vertical-align: middle;\n",
       "    }\n",
       "\n",
       "    .dataframe tbody tr th {\n",
       "        vertical-align: top;\n",
       "    }\n",
       "\n",
       "    .dataframe thead th {\n",
       "        text-align: right;\n",
       "    }\n",
       "</style>\n",
       "<table border=\"1\" class=\"dataframe\">\n",
       "  <thead>\n",
       "    <tr style=\"text-align: right;\">\n",
       "      <th></th>\n",
       "      <th>indice</th>\n",
       "    </tr>\n",
       "    <tr>\n",
       "      <th>date</th>\n",
       "      <th></th>\n",
       "    </tr>\n",
       "  </thead>\n",
       "  <tbody>\n",
       "    <tr>\n",
       "      <th>2017-07-31</th>\n",
       "      <td>0.009194</td>\n",
       "    </tr>\n",
       "    <tr>\n",
       "      <th>2017-08-31</th>\n",
       "      <td>0.000717</td>\n",
       "    </tr>\n",
       "    <tr>\n",
       "      <th>2017-09-30</th>\n",
       "      <td>0.018780</td>\n",
       "    </tr>\n",
       "    <tr>\n",
       "      <th>2017-10-31</th>\n",
       "      <td>0.000315</td>\n",
       "    </tr>\n",
       "    <tr>\n",
       "      <th>2017-11-30</th>\n",
       "      <td>0.017883</td>\n",
       "    </tr>\n",
       "    <tr>\n",
       "      <th>2017-12-31</th>\n",
       "      <td>0.088264</td>\n",
       "    </tr>\n",
       "    <tr>\n",
       "      <th>2018-01-31</th>\n",
       "      <td>0.011017</td>\n",
       "    </tr>\n",
       "    <tr>\n",
       "      <th>2018-02-28</th>\n",
       "      <td>0.008140</td>\n",
       "    </tr>\n",
       "    <tr>\n",
       "      <th>2018-03-31</th>\n",
       "      <td>0.007450</td>\n",
       "    </tr>\n",
       "    <tr>\n",
       "      <th>2018-04-30</th>\n",
       "      <td>0.002372</td>\n",
       "    </tr>\n",
       "  </tbody>\n",
       "</table>\n",
       "</div>"
      ],
      "text/plain": [
       "              indice\n",
       "date                \n",
       "2017-07-31  0.009194\n",
       "2017-08-31  0.000717\n",
       "2017-09-30  0.018780\n",
       "2017-10-31  0.000315\n",
       "2017-11-30  0.017883\n",
       "2017-12-31  0.088264\n",
       "2018-01-31  0.011017\n",
       "2018-02-28  0.008140\n",
       "2018-03-31  0.007450\n",
       "2018-04-30  0.002372"
      ]
     },
     "execution_count": 86,
     "metadata": {},
     "output_type": "execute_result"
    }
   ],
   "source": [
    "data = data.set_index('date')\n",
    "data = data.groupby(data.index).mean()\n",
    "data = data.asfreq(\"M\",method='backfill')\n",
    "data = data.sort_index()\n",
    "data.head(10)"
   ]
  },
  {
   "cell_type": "code",
   "execution_count": 87,
   "metadata": {},
   "outputs": [
    {
     "data": {
      "text/plain": [
       "<matplotlib.legend.Legend at 0x7f8b55220a00>"
      ]
     },
     "execution_count": 87,
     "metadata": {},
     "output_type": "execute_result"
    },
    {
     "data": {
      "image/png": "[encoded data removed]",
      "text/plain": [
       "<Figure size 900x400 with 1 Axes>"
      ]
     },
     "metadata": {},
     "output_type": "display_data"
    }
   ],
   "source": [
    "fig, ax = plt.subplots(figsize=(9, 4))\n",
    "data['indice'].plot(ax=ax, label='indice')\n",
    "ax.legend()"
   ]
  },
  {
   "cell_type": "markdown",
   "metadata": {},
   "source": [
    "Model validation    "
   ]
  },
  {
   "cell_type": "code",
   "execution_count": 88,
   "metadata": {},
   "outputs": [
    {
     "name": "stdout",
     "output_type": "stream",
     "text": [
      "Train dates : 2017-07-31 00:00:00 --- 2019-09-30 00:00:00  (n=27)\n",
      "Test dates  : 2019-10-31 00:00:00 --- 2020-07-31 00:00:00  (n=10)\n"
     ]
    },
    {
     "data": {
      "image/png": "[encoded data removed]",
      "text/plain": [
       "<Figure size 900x400 with 1 Axes>"
      ]
     },
     "metadata": {},
     "output_type": "display_data"
    }
   ],
   "source": [
    "steps = 10\n",
    "\n",
    "data_train = data[:-steps]\n",
    "data_test  = data[-steps:]\n",
    "\n",
    "print(f\"Train dates : {data_train.index.min()} --- {data_train.index.max()}  (n={len(data_train)})\")\n",
    "print(f\"Test dates  : {data_test.index.min()} --- {data_test.index.max()}  (n={len(data_test)})\")\n",
    "\n",
    "# Plotando os dados\n",
    "fig, ax=plt.subplots(figsize=(9, 4))\n",
    "data_train['indice'].plot(ax=ax, label='train')\n",
    "data_test['indice'].plot(ax=ax, label='test')\n",
    "ax.legend();"
   ]
  },
  {
   "cell_type": "code",
   "execution_count": 91,
   "metadata": {},
   "outputs": [
    {
     "name": "stdout",
     "output_type": "stream",
     "text": [
      "Number of models compared: 900.\n"
     ]
    },
    {
     "name": "stderr",
     "output_type": "stream",
     "text": [
      "lags grid: 100%|██████████| 9/9 [00:59<00:00,  6.66s/it]"
     ]
    },
    {
     "name": "stdout",
     "output_type": "stream",
     "text": [
      "`Forecaster` refitted using the best-found lags and parameters, and the whole data set: \n",
      "  Lags: [1 2] \n",
      "  Parameters: {'n_estimators': 28, 'max_depth': 5}\n",
      "  Backtesting metric: 0.0010890816711199226\n",
      "\n"
     ]
    },
    {
     "name": "stderr",
     "output_type": "stream",
     "text": [
      "\n"
     ]
    },
    {
     "data": {
      "text/html": [
       "<div>\n",
       "<style scoped>\n",
       "    .dataframe tbody tr th:only-of-type {\n",
       "        vertical-align: middle;\n",
       "    }\n",
       "\n",
       "    .dataframe tbody tr th {\n",
       "        vertical-align: top;\n",
       "    }\n",
       "\n",
       "    .dataframe thead th {\n",
       "        text-align: right;\n",
       "    }\n",
       "</style>\n",
       "<table border=\"1\" class=\"dataframe\">\n",
       "  <thead>\n",
       "    <tr style=\"text-align: right;\">\n",
       "      <th></th>\n",
       "      <th>lags</th>\n",
       "      <th>params</th>\n",
       "      <th>mean_squared_error</th>\n",
       "      <th>n_estimators</th>\n",
       "      <th>max_depth</th>\n",
       "    </tr>\n",
       "  </thead>\n",
       "  <tbody>\n",
       "    <tr>\n",
       "      <th>31</th>\n",
       "      <td>[1, 2]</td>\n",
       "      <td>{'n_estimators': 28, 'max_depth': 5}</td>\n",
       "      <td>0.001089</td>\n",
       "      <td>28</td>\n",
       "      <td>5</td>\n",
       "    </tr>\n",
       "    <tr>\n",
       "      <th>25</th>\n",
       "      <td>[1, 2]</td>\n",
       "      <td>{'n_estimators': 60, 'max_depth': 5}</td>\n",
       "      <td>0.001090</td>\n",
       "      <td>60</td>\n",
       "      <td>5</td>\n",
       "    </tr>\n",
       "    <tr>\n",
       "      <th>13</th>\n",
       "      <td>[1, 2]</td>\n",
       "      <td>{'n_estimators': 43, 'max_depth': 5}</td>\n",
       "      <td>0.001090</td>\n",
       "      <td>43</td>\n",
       "      <td>5</td>\n",
       "    </tr>\n",
       "    <tr>\n",
       "      <th>562</th>\n",
       "      <td>[1, 2, 3, 4, 5, 6, 7]</td>\n",
       "      <td>{'n_estimators': 40, 'max_depth': 19}</td>\n",
       "      <td>0.001092</td>\n",
       "      <td>40</td>\n",
       "      <td>19</td>\n",
       "    </tr>\n",
       "    <tr>\n",
       "      <th>545</th>\n",
       "      <td>[1, 2, 3, 4, 5, 6, 7]</td>\n",
       "      <td>{'n_estimators': 75, 'max_depth': 27}</td>\n",
       "      <td>0.001092</td>\n",
       "      <td>75</td>\n",
       "      <td>27</td>\n",
       "    </tr>\n",
       "    <tr>\n",
       "      <th>...</th>\n",
       "      <td>...</td>\n",
       "      <td>...</td>\n",
       "      <td>...</td>\n",
       "      <td>...</td>\n",
       "      <td>...</td>\n",
       "    </tr>\n",
       "    <tr>\n",
       "      <th>48</th>\n",
       "      <td>[1, 2]</td>\n",
       "      <td>{'n_estimators': 20, 'max_depth': 7}</td>\n",
       "      <td>0.001092</td>\n",
       "      <td>20</td>\n",
       "      <td>7</td>\n",
       "    </tr>\n",
       "    <tr>\n",
       "      <th>80</th>\n",
       "      <td>[1, 2]</td>\n",
       "      <td>{'n_estimators': 30, 'max_depth': 6}</td>\n",
       "      <td>0.001092</td>\n",
       "      <td>30</td>\n",
       "      <td>6</td>\n",
       "    </tr>\n",
       "    <tr>\n",
       "      <th>131</th>\n",
       "      <td>[1, 2, 3]</td>\n",
       "      <td>{'n_estimators': 28, 'max_depth': 5}</td>\n",
       "      <td>0.001093</td>\n",
       "      <td>28</td>\n",
       "      <td>5</td>\n",
       "    </tr>\n",
       "    <tr>\n",
       "      <th>113</th>\n",
       "      <td>[1, 2, 3]</td>\n",
       "      <td>{'n_estimators': 43, 'max_depth': 5}</td>\n",
       "      <td>0.001093</td>\n",
       "      <td>43</td>\n",
       "      <td>5</td>\n",
       "    </tr>\n",
       "    <tr>\n",
       "      <th>125</th>\n",
       "      <td>[1, 2, 3]</td>\n",
       "      <td>{'n_estimators': 60, 'max_depth': 5}</td>\n",
       "      <td>0.001093</td>\n",
       "      <td>60</td>\n",
       "      <td>5</td>\n",
       "    </tr>\n",
       "  </tbody>\n",
       "</table>\n",
       "<p>900 rows × 5 columns</p>\n",
       "</div>"
      ],
      "text/plain": [
       "                      lags                                 params  \\\n",
       "31                  [1, 2]   {'n_estimators': 28, 'max_depth': 5}   \n",
       "25                  [1, 2]   {'n_estimators': 60, 'max_depth': 5}   \n",
       "13                  [1, 2]   {'n_estimators': 43, 'max_depth': 5}   \n",
       "562  [1, 2, 3, 4, 5, 6, 7]  {'n_estimators': 40, 'max_depth': 19}   \n",
       "545  [1, 2, 3, 4, 5, 6, 7]  {'n_estimators': 75, 'max_depth': 27}   \n",
       "..                     ...                                    ...   \n",
       "48                  [1, 2]   {'n_estimators': 20, 'max_depth': 7}   \n",
       "80                  [1, 2]   {'n_estimators': 30, 'max_depth': 6}   \n",
       "131              [1, 2, 3]   {'n_estimators': 28, 'max_depth': 5}   \n",
       "113              [1, 2, 3]   {'n_estimators': 43, 'max_depth': 5}   \n",
       "125              [1, 2, 3]   {'n_estimators': 60, 'max_depth': 5}   \n",
       "\n",
       "     mean_squared_error  n_estimators  max_depth  \n",
       "31             0.001089            28          5  \n",
       "25             0.001090            60          5  \n",
       "13             0.001090            43          5  \n",
       "562            0.001092            40         19  \n",
       "545            0.001092            75         27  \n",
       "..                  ...           ...        ...  \n",
       "48             0.001092            20          7  \n",
       "80             0.001092            30          6  \n",
       "131            0.001093            28          5  \n",
       "113            0.001093            43          5  \n",
       "125            0.001093            60          5  \n",
       "\n",
       "[900 rows x 5 columns]"
      ]
     },
     "execution_count": 91,
     "metadata": {},
     "output_type": "execute_result"
    }
   ],
   "source": [
    "forecaster = ForecasterAutoreg(\n",
    "                 regressor = RandomForestRegressor(random_state=123),\n",
    "                 lags      = 10 # O valor será substituído durante o tunning\n",
    "             )\n",
    "\n",
    "# Valores de lag a testar\n",
    "lags_grid = [2, 3, 4, 5, 6, 7, 8, 9, 10]\n",
    "\n",
    "# Regressor hyperparameters\n",
    "param_distributions = {'n_estimators': np.arange(start=10, stop=100, step=1, dtype=int),\n",
    "                       'max_depth': np.arange(start=5, stop=30, step=1, dtype=int)}\n",
    "\n",
    "results = random_search_forecaster(\n",
    "              forecaster           = forecaster,\n",
    "              y                    = data['indice'],\n",
    "              steps                = steps,\n",
    "              lags_grid            = lags_grid,\n",
    "              param_distributions  = param_distributions,\n",
    "              n_iter               = 100,\n",
    "              metric               = 'mean_squared_error',\n",
    "              refit                = True,\n",
    "              initial_train_size   = len(data['indice']) - steps,\n",
    "              fixed_train_size     = False,\n",
    "              return_best          = True,\n",
    "              random_state         = 123,\n",
    "              verbose              = False\n",
    "          )\n",
    "\n",
    "results"
   ]
  }
 ],
 "metadata": {
  "kernelspec": {
   "display_name": "Python 3",
   "language": "python",
   "name": "python3"
  },
  "language_info": {
   "codemirror_mode": {
    "name": "ipython",
    "version": 3
   },
   "file_extension": ".py",
   "mimetype": "text/x-python",
   "name": "python",
   "nbconvert_exporter": "python",
   "pygments_lexer": "ipython3",
   "version": "3.10.13"
  }
 },
 "nbformat": 4,
 "nbformat_minor": 2
}
