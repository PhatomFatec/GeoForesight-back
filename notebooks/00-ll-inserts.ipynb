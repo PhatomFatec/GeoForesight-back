{
 "cells": [
  {
   "cell_type": "code",
   "execution_count": 3,
   "metadata": {},
   "outputs": [
    {
     "data": {
      "text/plain": [
       "(3099, 16)"
      ]
     },
     "execution_count": 3,
     "metadata": {},
     "output_type": "execute_result"
    }
   ],
   "source": [
    "import pandas as pd\n",
    "\n",
    "df = pd.read_csv(\"C:/Users/leall/OneDrive/Área de Trabalho/api-lara/GeoForesight-back/notebooks/op_estadual_att.csv\", sep=';', encoding='utf-8')\n",
    "df = df.drop_duplicates()\n",
    "df.shape"
   ]
  },
  {
   "cell_type": "code",
   "execution_count": null,
   "metadata": {},
   "outputs": [],
   "source": []
  },
  {
   "cell_type": "code",
   "execution_count": 19,
   "metadata": {},
   "outputs": [],
   "source": [
    "with open('C:/Users/leall/OneDrive/Área de Trabalho/api-lara/GeoForesight-back/database/insert_postgres/insert_op.sql', 'w') as file:\n",
    "\n",
    "    for index, row in df.iterrows():\n",
    "        ref_bacen = str(row['ref_bacen'])\n",
    "        nu_ordem = str(row['nu_ordem'])\n",
    "        inicio_plantio = row['inicio_plantio']\n",
    "        final_plantio = row['final_plantio']\n",
    "        inicio_colheita = row['inicio_colheita']\n",
    "        final_colheita = row['final_colheita']\n",
    "        data_vencimento = row['data_vencimento']\n",
    "        idempreendimento = row['idempreendimento']\n",
    "        idevento = row['idevento']\n",
    "        idsolo = row['idsolo']\n",
    "        idirrigacao = row['idirrigacao']\n",
    "        idciclo = row['idciclo']\n",
    "        idgrao = row['idgrao']\n",
    "        idcultivar = row['idcultivar']\n",
    "        idprograma = row['idprograma']\n",
    "        estado = row['estado']\n",
    "\n",
    "        \n",
    "        dataframe = query = f\"INSERT INTO PUBLIC.operacao_credito_estadual(ref_bacen, nu_ordem, inicio_plantio, final_plantio, inicio_colheita, final_colheita, data_vencimento, idempreendimento, idevento, idsolo, idirrigacao, idciclo, idgrao, idcultivar, idprograma, estado) VALUES ('{ref_bacen}', '{nu_ordem}', '{inicio_plantio}', '{final_plantio}', '{inicio_colheita}', '{final_colheita}', '{data_vencimento}', {idempreendimento}, {idevento}, {idsolo}, {idirrigacao}, {idciclo}, {idgrao}, {idcultivar}, {idprograma}, '{estado}');\\n\"\n",
    "        file.write(query)\n",
    "\n",
    "\n"
   ]
  },
  {
   "cell_type": "code",
   "execution_count": 74,
   "metadata": {},
   "outputs": [
    {
     "data": {
      "text/html": [
       "<div>\n",
       "<style scoped>\n",
       "    .dataframe tbody tr th:only-of-type {\n",
       "        vertical-align: middle;\n",
       "    }\n",
       "\n",
       "    .dataframe tbody tr th {\n",
       "        vertical-align: top;\n",
       "    }\n",
       "\n",
       "    .dataframe thead th {\n",
       "        text-align: right;\n",
       "    }\n",
       "</style>\n",
       "<table border=\"1\" class=\"dataframe\">\n",
       "  <thead>\n",
       "    <tr style=\"text-align: right;\">\n",
       "      <th></th>\n",
       "      <th>REF_BACEN</th>\n",
       "      <th>NU_ORDEM</th>\n",
       "    </tr>\n",
       "  </thead>\n",
       "  <tbody>\n",
       "    <tr>\n",
       "      <th>0</th>\n",
       "      <td>1642834</td>\n",
       "      <td>1</td>\n",
       "    </tr>\n",
       "    <tr>\n",
       "      <th>1</th>\n",
       "      <td>5891994</td>\n",
       "      <td>1</td>\n",
       "    </tr>\n",
       "    <tr>\n",
       "      <th>2</th>\n",
       "      <td>7427021</td>\n",
       "      <td>1</td>\n",
       "    </tr>\n",
       "    <tr>\n",
       "      <th>3</th>\n",
       "      <td>8311073</td>\n",
       "      <td>1</td>\n",
       "    </tr>\n",
       "    <tr>\n",
       "      <th>4</th>\n",
       "      <td>9118067</td>\n",
       "      <td>1</td>\n",
       "    </tr>\n",
       "    <tr>\n",
       "      <th>...</th>\n",
       "      <td>...</td>\n",
       "      <td>...</td>\n",
       "    </tr>\n",
       "    <tr>\n",
       "      <th>3064</th>\n",
       "      <td>514767529</td>\n",
       "      <td>1</td>\n",
       "    </tr>\n",
       "    <tr>\n",
       "      <th>3065</th>\n",
       "      <td>514770179</td>\n",
       "      <td>1</td>\n",
       "    </tr>\n",
       "    <tr>\n",
       "      <th>3066</th>\n",
       "      <td>514772617</td>\n",
       "      <td>1</td>\n",
       "    </tr>\n",
       "    <tr>\n",
       "      <th>3067</th>\n",
       "      <td>514817977</td>\n",
       "      <td>1</td>\n",
       "    </tr>\n",
       "    <tr>\n",
       "      <th>3068</th>\n",
       "      <td>514927231</td>\n",
       "      <td>1</td>\n",
       "    </tr>\n",
       "  </tbody>\n",
       "</table>\n",
       "<p>3069 rows × 2 columns</p>\n",
       "</div>"
      ],
      "text/plain": [
       "      REF_BACEN  NU_ORDEM\n",
       "0       1642834         1\n",
       "1       5891994         1\n",
       "2       7427021         1\n",
       "3       8311073         1\n",
       "4       9118067         1\n",
       "...         ...       ...\n",
       "3064  514767529         1\n",
       "3065  514770179         1\n",
       "3066  514772617         1\n",
       "3067  514817977         1\n",
       "3068  514927231         1\n",
       "\n",
       "[3069 rows x 2 columns]"
      ]
     },
     "execution_count": 74,
     "metadata": {},
     "output_type": "execute_result"
    }
   ],
   "source": [
    "glebas_df = pd.read_csv(\"C:/Users/leall/OneDrive/Área de Trabalho/glebas_ref.csv\", sep=';', encoding='ISO-8859-1')\n",
    "glebas_df\n"
   ]
  },
  {
   "cell_type": "code",
   "execution_count": 20,
   "metadata": {},
   "outputs": [],
   "source": [
    "codigo_para_excluir = [\n",
    "'5891994',\n",
    "'9150493',\n",
    "'511648794',\n",
    "'513613305',\n",
    "'513311173',\n",
    "'509447347',\n",
    "'510124977',\n",
    "'511735340',\n",
    "'509309030',\n",
    "'508023326',\n",
    "'513613305',\n",
    "'506007208',\n",
    "'506742889',\n",
    "'9339233',\n",
    "'513524122',\n",
    "'512291209',\n",
    "'510760955',\n",
    "'513847914',\n",
    "'511500680',\n",
    "'509831558',\n",
    "'506777883',\n",
    "'505876386',\n",
    "'512405342',\n",
    "'510278401',\n",
    "'512261191',\n",
    "'506925664',\n",
    "'512461666',\n",
    "'512405342',\n",
    "'513735136',\n",
    "'512943606',\n",
    "'512363012',\n",
    "'508967472',\n",
    "'507240703',\n",
    "'512701247',\n",
    "'512342231',\n",
    "'513166147',\n",
    "'510102339',\n",
    "'508222205',\n",
    "'1642834',\n",
    "'512531354',\n",
    "'NULL82',\n",
    "'5891994']\n",
    "\n",
    "arquivo_entrada = \"C:/Users/leall/OneDrive/Área de Trabalho/api-lara/GeoForesight-back/data/INSERT ATT_TESTE.sql\"\n",
    "arquivo_saida = \"C:/Users/leall/OneDrive/Área de Trabalho/api-lara/GeoForesight-back/database/insert_postgres/inserts_glebas.sql\"\n",
    "\n",
    "comandos_sql_sem_exclusao = []\n",
    "with open(arquivo_entrada, 'r') as arquivo_entrada:\n",
    "    linhas = arquivo_entrada.readlines()\n",
    "    for linha in linhas:\n",
    "        if not any(codigo in linha for codigo in codigo_para_excluir):\n",
    "            comandos_sql_sem_exclusao.append(linha)\n",
    "with open(arquivo_saida, 'w') as arquivo_saida:\n",
    "    arquivo_saida.writelines(comandos_sql_sem_exclusao)"
   ]
  },
  {
   "cell_type": "code",
   "execution_count": 22,
   "metadata": {},
   "outputs": [
    {
     "name": "stdout",
     "output_type": "stream",
     "text": [
      "Registros com códigos ['5891994', '9150493', '511648794', '513613305', '513311173', '509447347', '510124977', '511735340', '509309030', '508023326', '513613305', '506007208', '506742889', '9339233', '513524122', '512291209', '510760955', '513847914', '511500680', '509831558', '506777883', '505876386', '512405342', '510278401', '512261191', '506925664', '512461666', '512405342', '513735136', '512943606', '512363012', '508967472', '507240703', '512701247', '512342231', '513166147', '510102339', '508222205', '1642834', '512531354', 'NULL82', '5891994'] excluídos com sucesso.\n"
     ]
    }
   ],
   "source": [
    "print(f\"Registros com códigos {codigo_para_excluir} excluídos com sucesso.\")"
   ]
  },
  {
   "cell_type": "code",
   "execution_count": 75,
   "metadata": {},
   "outputs": [
    {
     "data": {
      "text/plain": [
       "1048575"
      ]
     },
     "execution_count": 75,
     "metadata": {},
     "output_type": "execute_result"
    }
   ],
   "source": [
    "municipios = pd.read_csv(\"C:/Users/leall/OneDrive/Documentos/municipio_glebas.csv\", sep=';', encoding='ISO-8859-1')\n",
    "municipios.dropna()\n",
    "municipios.drop_duplicates()\n",
    "municipios.shape[0]\n"
   ]
  },
  {
   "cell_type": "code",
   "execution_count": 83,
   "metadata": {},
   "outputs": [],
   "source": [
    "municipios_glebas = municipios.merge(glebas_df,on=['REF_BACEN','NU_ORDEM'])"
   ]
  },
  {
   "cell_type": "code",
   "execution_count": 84,
   "metadata": {},
   "outputs": [],
   "source": [
    "with open('../database/insert_postgres/insert_municipio.sql', 'w', encoding='utf-8') as file:\n",
    "    for index, row in municipios_glebas.iterrows():\n",
    "        ref_bacen = str(row['REF_BACEN'])\n",
    "        nu_ordem = str(row['NU_ORDEM'])\n",
    "        nome = str(row['nome'])\n",
    "\n",
    "        query1 = f\"INSERT INTO PUBLIC.municipio_glebas(ref_bacen, nu_ordem, nome) VALUES ('{ref_bacen}','{nu_ordem}','{nome}');\\n\"\n",
    "        file.write(query1)"
   ]
  }
 ],
 "metadata": {
  "kernelspec": {
   "display_name": "Python 3",
   "language": "python",
   "name": "python3"
  },
  "language_info": {
   "codemirror_mode": {
    "name": "ipython",
    "version": 3
   },
   "file_extension": ".py",
   "mimetype": "text/x-python",
   "name": "python",
   "nbconvert_exporter": "python",
   "pygments_lexer": "ipython3",
   "version": "3.11.6"
  }
 },
 "nbformat": 4,
 "nbformat_minor": 2
}
