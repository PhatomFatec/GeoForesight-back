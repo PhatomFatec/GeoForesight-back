{
 "cells": [
  {
   "cell_type": "code",
   "execution_count": 1,
   "metadata": {},
   "outputs": [
    {
     "name": "stdout",
     "output_type": "stream",
     "text": [
      "Collecting bcrypt\n",
      "  Downloading bcrypt-4.0.1-cp36-abi3-manylinux_2_28_x86_64.whl (593 kB)\n",
      "\u001b[2K     \u001b[90m━━━━━━━━━━━━━━━━━━━━━━━━━━━━━━━━━━━━━━\u001b[0m \u001b[32m593.7/593.7 kB\u001b[0m \u001b[31m15.2 MB/s\u001b[0m eta \u001b[36m0:00:00\u001b[0m00:01\u001b[0m\n",
      "\u001b[?25hInstalling collected packages: bcrypt\n",
      "Successfully installed bcrypt-4.0.1\n"
     ]
    }
   ],
   "source": [
    "!pip install bcrypt"
   ]
  },
  {
   "cell_type": "code",
   "execution_count": 3,
   "metadata": {},
   "outputs": [
    {
     "name": "stdout",
     "output_type": "stream",
     "text": [
      "admin123\n",
      "$2b$12$.9DID1fRTcqshr0kJWtaQOLt8K4r2Y5.LCZSnmL0gBiwq5rC7aGN.\n"
     ]
    }
   ],
   "source": [
    "import bcrypt\n",
    "\n",
    "# Senha a ser criptografada\n",
    "senha = \"admin123\"\n",
    "\n",
    "# Gerar um salt aleatório\n",
    "salt = bcrypt.gensalt()\n",
    "\n",
    "# Criptografar a senha com o salt\n",
    "hashed_password = bcrypt.hashpw(senha.encode('utf-8'), salt)\n",
    "\n",
    "print(senha)\n",
    "# Imprimir o valor de hash\n",
    "print(hashed_password.decode('utf-8'))\n"
   ]
  },
  {
   "cell_type": "code",
   "execution_count": 5,
   "metadata": {},
   "outputs": [
    {
     "name": "stdout",
     "output_type": "stream",
     "text": [
      "Login bem-sucedido!\n"
     ]
    }
   ],
   "source": [
    "###########################\n",
    "### comparacao de senha ###\n",
    "###########################\n",
    "\n",
    "# Suponha que você tenha recuperado o valor da senha criptografada do banco de dados\n",
    "senha_armazenada_no_banco = b'$2b$12$.9DID1fRTcqshr0kJWtaQOLt8K4r2Y5.LCZSnmL0gBiwq5rC7aGN.'\n",
    "\n",
    "# Suponha que você tenha recebido a senha fornecida pelo usuário durante o login\n",
    "senha_fornecida_pelo_usuario = \"admin123\"\n",
    "\n",
    "# Compare a senha fornecida com a senha armazenada no banco de dados\n",
    "if bcrypt.checkpw(senha_fornecida_pelo_usuario.encode('utf-8'), senha_armazenada_no_banco):\n",
    "    # Senhas coincidem, login bem-sucedido\n",
    "    print(\"Login bem-sucedido!\")\n",
    "else:\n",
    "    # Senhas não coincidem, autenticação falha\n",
    "    print(\"Credenciais inválidas.\")\n"
   ]
  }
 ],
 "metadata": {
  "kernelspec": {
   "display_name": "Python 3",
   "language": "python",
   "name": "python3"
  },
  "language_info": {
   "codemirror_mode": {
    "name": "ipython",
    "version": 3
   },
   "file_extension": ".py",
   "mimetype": "text/x-python",
   "name": "python",
   "nbconvert_exporter": "python",
   "pygments_lexer": "ipython3",
   "version": "3.11.5"
  }
 },
 "nbformat": 4,
 "nbformat_minor": 2
}
